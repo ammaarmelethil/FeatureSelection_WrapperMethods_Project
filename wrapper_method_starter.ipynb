{
 "cells": [
  {
   "cell_type": "markdown",
   "metadata": {},
   "source": [
    "## Wrapper Methods\n",
    "\n",
    "In this project, I'll analyze data from a survey conducted by Fabio Mendoza Palechor and Alexis de la Hoz Manotas that asked people about their eating habits and weight. The data was obtained from the [UCI Machine Learning Repository](https://archive.ics.uci.edu/ml/datasets/Estimation+of+obesity+levels+based+on+eating+habits+and+physical+condition+). Categorical variables were changed to numerical ones in order to facilitate analysis.\n",
    "\n",
    "First, I'll fit a logistic regression model to try to predict whether survey respondents are obese based on their answers to questions in the survey. After that, I'll use three different wrapper methods to choose a smaller feature subset.\n",
    "\n",
    "I'll use sequential forward selection, sequential backward floating selection, and recursive feature elimination. After implementing each wrapper method, I'll evaluate the model accuracy on the resulting smaller feature subsets and compare that with the model accuracy using all available features."
   ],
   "id": "6b93da58800959c1"
  },
  {
   "cell_type": "code",
   "execution_count": 140,
   "metadata": {
    "ExecuteTime": {
     "end_time": "2024-01-02T02:10:41.558325Z",
     "start_time": "2024-01-02T02:10:41.493908Z"
    }
   },
   "outputs": [],
   "source": [
    "# Import libraries\n",
    "import pandas as pd\n",
    "from pandas import read_csv\n",
    "from sklearn.linear_model import LogisticRegression\n",
    "from mlxtend.feature_selection import SequentialFeatureSelector as SFS\n",
    "from mlxtend.plotting import plot_sequential_feature_selection as plot_sfs\n",
    "import matplotlib.pyplot as plt\n",
    "from sklearn.preprocessing import StandardScaler, OneHotEncoder, LabelEncoder\n",
    "from sklearn.preprocessing import LabelBinarizer\n",
    "from sklearn.feature_selection import RFE"
   ],
   "id": "57931b588a37c460"
  },
  {
   "cell_type": "markdown",
   "metadata": {},
   "source": [
    "## Evaluating a Logistic Regression Model\n",
    "\n",
    "The data set `obesity` contains 18 predictor variables. Here's a brief description of them.\n",
    "\n",
    "* `Gender` is `1` if a respondent is male and `0` if a respondent is female.\n",
    "* `Age` is a respondent's age in years.\n",
    "* `family_history_with_overweight` is `1` if a respondent has family member who is or was overweight, `0` if not.\n",
    "* `FAVC` is `1` if a respondent eats high caloric food frequently, `0` if not.\n",
    "* `FCVC` is `1` if a respondent usually eats vegetables in their meals, `0` if not.\n",
    "* `NCP` represents how many main meals a respondent has daily (`0` for 1-2 meals, `1` for 3 meals, and `2` for more than 3 meals).\n",
    "* `CAEC` represents how much food a respondent eats between meals on a scale of `0` to `3`.\n",
    "* `SMOKE` is `1` if a respondent smokes, `0` if not.\n",
    "* `CH2O` represents how much water a respondent drinks on a scale of `0` to `2`.\n",
    "* `SCC` is `1` if a respondent monitors their caloric intake, `0` if not.\n",
    "* `FAF` represents how much physical activity a respondent does on a scale of `0` to `3`.\n",
    "* `TUE` represents how much time a respondent spends looking at devices with screens on a scale of `0` to `2`.\n",
    "* `CALC` represents how often a respondent drinks alcohol on a scale of `0` to `3`.\n",
    "* `Automobile`, `Bike`, `Motorbike`, `Public_Transportation`, and `Walking` indicate a respondent's primary mode of transportation. Their primary mode of transportation is indicated by a `1` and the other columns will contain a `0`.\n",
    "\n",
    "The outcome variable, `NObeyesdad`, is a `1` if a patient is obese and a `0` if not.\n",
    "\n",
    "Using the `.head()` method and inspect the data."
   ],
   "id": "1ecd1895f1a3c467"
  },
  {
   "cell_type": "code",
   "execution_count": 141,
   "metadata": {
    "ExecuteTime": {
     "end_time": "2024-01-02T02:10:41.582960Z",
     "start_time": "2024-01-02T02:10:41.561787Z"
    }
   },
   "outputs": [
    {
     "data": {
      "text/plain": "   Gender   Age  Height  Weight  family_history_with_overweight  FAVC  FCVC  \\\n0       0  21.0    1.62    64.0                               1     0   2.0   \n1       0  21.0    1.52    56.0                               1     0   3.0   \n2       1  23.0    1.80    77.0                               1     0   2.0   \n3       1  27.0    1.80    87.0                               0     0   3.0   \n4       1  22.0    1.78    89.8                               0     0   2.0   \n\n   NCP  CAEC  SMOKE  ...  TUE  CALC  Automobile  Bike   Motorbike  \\\n0  3.0     1      0  ...  1.0     0           0      0          0   \n1  3.0     1      1  ...  0.0     1           0      0          0   \n2  3.0     1      0  ...  1.0     2           0      0          0   \n3  3.0     1      0  ...  0.0     2           0      0          0   \n4  1.0     1      0  ...  0.0     1           0      0          0   \n\n   Public_Transportation  Walking                 MTRANS              0be1dad  \\\n0                      1        0  Public_Transportation         0rmal_Weight   \n1                      1        0  Public_Transportation         0rmal_Weight   \n2                      1        0  Public_Transportation         0rmal_Weight   \n3                      0        1                Walking   Overweight_Level_I   \n4                      1        0  Public_Transportation  Overweight_Level_II   \n\n   0be1dad_Encoded  \n0                0  \n1                0  \n2                0  \n3                0  \n4                0  \n\n[5 rows x 23 columns]",
      "text/html": "<div>\n<style scoped>\n    .dataframe tbody tr th:only-of-type {\n        vertical-align: middle;\n    }\n\n    .dataframe tbody tr th {\n        vertical-align: top;\n    }\n\n    .dataframe thead th {\n        text-align: right;\n    }\n</style>\n<table border=\"1\" class=\"dataframe\">\n  <thead>\n    <tr style=\"text-align: right;\">\n      <th></th>\n      <th>Gender</th>\n      <th>Age</th>\n      <th>Height</th>\n      <th>Weight</th>\n      <th>family_history_with_overweight</th>\n      <th>FAVC</th>\n      <th>FCVC</th>\n      <th>NCP</th>\n      <th>CAEC</th>\n      <th>SMOKE</th>\n      <th>...</th>\n      <th>TUE</th>\n      <th>CALC</th>\n      <th>Automobile</th>\n      <th>Bike</th>\n      <th>Motorbike</th>\n      <th>Public_Transportation</th>\n      <th>Walking</th>\n      <th>MTRANS</th>\n      <th>0be1dad</th>\n      <th>0be1dad_Encoded</th>\n    </tr>\n  </thead>\n  <tbody>\n    <tr>\n      <th>0</th>\n      <td>0</td>\n      <td>21.0</td>\n      <td>1.62</td>\n      <td>64.0</td>\n      <td>1</td>\n      <td>0</td>\n      <td>2.0</td>\n      <td>3.0</td>\n      <td>1</td>\n      <td>0</td>\n      <td>...</td>\n      <td>1.0</td>\n      <td>0</td>\n      <td>0</td>\n      <td>0</td>\n      <td>0</td>\n      <td>1</td>\n      <td>0</td>\n      <td>Public_Transportation</td>\n      <td>0rmal_Weight</td>\n      <td>0</td>\n    </tr>\n    <tr>\n      <th>1</th>\n      <td>0</td>\n      <td>21.0</td>\n      <td>1.52</td>\n      <td>56.0</td>\n      <td>1</td>\n      <td>0</td>\n      <td>3.0</td>\n      <td>3.0</td>\n      <td>1</td>\n      <td>1</td>\n      <td>...</td>\n      <td>0.0</td>\n      <td>1</td>\n      <td>0</td>\n      <td>0</td>\n      <td>0</td>\n      <td>1</td>\n      <td>0</td>\n      <td>Public_Transportation</td>\n      <td>0rmal_Weight</td>\n      <td>0</td>\n    </tr>\n    <tr>\n      <th>2</th>\n      <td>1</td>\n      <td>23.0</td>\n      <td>1.80</td>\n      <td>77.0</td>\n      <td>1</td>\n      <td>0</td>\n      <td>2.0</td>\n      <td>3.0</td>\n      <td>1</td>\n      <td>0</td>\n      <td>...</td>\n      <td>1.0</td>\n      <td>2</td>\n      <td>0</td>\n      <td>0</td>\n      <td>0</td>\n      <td>1</td>\n      <td>0</td>\n      <td>Public_Transportation</td>\n      <td>0rmal_Weight</td>\n      <td>0</td>\n    </tr>\n    <tr>\n      <th>3</th>\n      <td>1</td>\n      <td>27.0</td>\n      <td>1.80</td>\n      <td>87.0</td>\n      <td>0</td>\n      <td>0</td>\n      <td>3.0</td>\n      <td>3.0</td>\n      <td>1</td>\n      <td>0</td>\n      <td>...</td>\n      <td>0.0</td>\n      <td>2</td>\n      <td>0</td>\n      <td>0</td>\n      <td>0</td>\n      <td>0</td>\n      <td>1</td>\n      <td>Walking</td>\n      <td>Overweight_Level_I</td>\n      <td>0</td>\n    </tr>\n    <tr>\n      <th>4</th>\n      <td>1</td>\n      <td>22.0</td>\n      <td>1.78</td>\n      <td>89.8</td>\n      <td>0</td>\n      <td>0</td>\n      <td>2.0</td>\n      <td>1.0</td>\n      <td>1</td>\n      <td>0</td>\n      <td>...</td>\n      <td>0.0</td>\n      <td>1</td>\n      <td>0</td>\n      <td>0</td>\n      <td>0</td>\n      <td>1</td>\n      <td>0</td>\n      <td>Public_Transportation</td>\n      <td>Overweight_Level_II</td>\n      <td>0</td>\n    </tr>\n  </tbody>\n</table>\n<p>5 rows × 23 columns</p>\n</div>"
     },
     "execution_count": 141,
     "metadata": {},
     "output_type": "execute_result"
    }
   ],
   "source": [
    "# https://archive.ics.uci.edu/ml/datasets/Estimation+of+obesity+levels+based+on+eating+habits+and+physical+condition+\n",
    "\n",
    "# Load the data\n",
    "obesity = pd.read_csv(\"obesity.csv\")\n",
    "# obesity.drop(columns=['0be1dad'])\n",
    "# Inspect the data\n",
    "obesity.head()"
   ],
   "id": "b0052fdf73896346"
  },
  {
   "cell_type": "markdown",
   "metadata": {},
   "source": [
    "### Split the data into `X` and `y`, Omitting redundant categorical features first\n",
    "\n",
    "In order to use a linear regression model, I'll need to split the data into two parts: the predictor variables and an outcome variable. Do this by splitting the data into a DataFrame of predictor variables called `X` and a Series of outcome variables `y`."
   ],
   "id": "e5a98a9de2fe9dd"
  },
  {
   "cell_type": "code",
   "execution_count": 142,
   "metadata": {
    "ExecuteTime": {
     "end_time": "2024-01-02T02:10:41.617052Z",
     "start_time": "2024-01-02T02:10:41.583846Z"
    }
   },
   "outputs": [],
   "source": [
    "X = obesity.drop(columns=['0be1dad_Encoded', 'MTRANS', '0be1dad'], axis=1) \n",
    "y = obesity['0be1dad_Encoded']"
   ],
   "id": "894fe9f839c81e67"
  },
  {
   "cell_type": "markdown",
   "metadata": {},
   "source": [
    "### Logistic regression model\n",
    "\n",
    "Creating a logistic regression model called `lr`. Including the parameter `max_iter=2000` to make sure that the model will converge when I try to fit it."
   ],
   "id": "befd2d340844f4a4"
  },
  {
   "cell_type": "code",
   "execution_count": 145,
   "metadata": {
    "ExecuteTime": {
     "end_time": "2024-01-02T02:11:25.637411Z",
     "start_time": "2024-01-02T02:11:25.626772Z"
    }
   },
   "outputs": [],
   "source": [
    "lr = LogisticRegression(max_iter=2000)"
   ],
   "id": "b83bde9248e2ef47"
  },
  {
   "cell_type": "markdown",
   "metadata": {},
   "source": [
    "### Fit the model\n",
    "\n",
    "Use the `.fit()` method on `lr` to fit the model to `X` and `y`."
   ],
   "id": "116d82d11468491"
  },
  {
   "cell_type": "code",
   "execution_count": 146,
   "metadata": {
    "ExecuteTime": {
     "end_time": "2024-01-02T02:11:31.129534Z",
     "start_time": "2024-01-02T02:11:30.914811Z"
    }
   },
   "outputs": [
    {
     "data": {
      "text/plain": "LogisticRegression(max_iter=2000)",
      "text/html": "<style>#sk-container-id-4 {color: black;}#sk-container-id-4 pre{padding: 0;}#sk-container-id-4 div.sk-toggleable {background-color: white;}#sk-container-id-4 label.sk-toggleable__label {cursor: pointer;display: block;width: 100%;margin-bottom: 0;padding: 0.3em;box-sizing: border-box;text-align: center;}#sk-container-id-4 label.sk-toggleable__label-arrow:before {content: \"▸\";float: left;margin-right: 0.25em;color: #696969;}#sk-container-id-4 label.sk-toggleable__label-arrow:hover:before {color: black;}#sk-container-id-4 div.sk-estimator:hover label.sk-toggleable__label-arrow:before {color: black;}#sk-container-id-4 div.sk-toggleable__content {max-height: 0;max-width: 0;overflow: hidden;text-align: left;background-color: #f0f8ff;}#sk-container-id-4 div.sk-toggleable__content pre {margin: 0.2em;color: black;border-radius: 0.25em;background-color: #f0f8ff;}#sk-container-id-4 input.sk-toggleable__control:checked~div.sk-toggleable__content {max-height: 200px;max-width: 100%;overflow: auto;}#sk-container-id-4 input.sk-toggleable__control:checked~label.sk-toggleable__label-arrow:before {content: \"▾\";}#sk-container-id-4 div.sk-estimator input.sk-toggleable__control:checked~label.sk-toggleable__label {background-color: #d4ebff;}#sk-container-id-4 div.sk-label input.sk-toggleable__control:checked~label.sk-toggleable__label {background-color: #d4ebff;}#sk-container-id-4 input.sk-hidden--visually {border: 0;clip: rect(1px 1px 1px 1px);clip: rect(1px, 1px, 1px, 1px);height: 1px;margin: -1px;overflow: hidden;padding: 0;position: absolute;width: 1px;}#sk-container-id-4 div.sk-estimator {font-family: monospace;background-color: #f0f8ff;border: 1px dotted black;border-radius: 0.25em;box-sizing: border-box;margin-bottom: 0.5em;}#sk-container-id-4 div.sk-estimator:hover {background-color: #d4ebff;}#sk-container-id-4 div.sk-parallel-item::after {content: \"\";width: 100%;border-bottom: 1px solid gray;flex-grow: 1;}#sk-container-id-4 div.sk-label:hover label.sk-toggleable__label {background-color: #d4ebff;}#sk-container-id-4 div.sk-serial::before {content: \"\";position: absolute;border-left: 1px solid gray;box-sizing: border-box;top: 0;bottom: 0;left: 50%;z-index: 0;}#sk-container-id-4 div.sk-serial {display: flex;flex-direction: column;align-items: center;background-color: white;padding-right: 0.2em;padding-left: 0.2em;position: relative;}#sk-container-id-4 div.sk-item {position: relative;z-index: 1;}#sk-container-id-4 div.sk-parallel {display: flex;align-items: stretch;justify-content: center;background-color: white;position: relative;}#sk-container-id-4 div.sk-item::before, #sk-container-id-4 div.sk-parallel-item::before {content: \"\";position: absolute;border-left: 1px solid gray;box-sizing: border-box;top: 0;bottom: 0;left: 50%;z-index: -1;}#sk-container-id-4 div.sk-parallel-item {display: flex;flex-direction: column;z-index: 1;position: relative;background-color: white;}#sk-container-id-4 div.sk-parallel-item:first-child::after {align-self: flex-end;width: 50%;}#sk-container-id-4 div.sk-parallel-item:last-child::after {align-self: flex-start;width: 50%;}#sk-container-id-4 div.sk-parallel-item:only-child::after {width: 0;}#sk-container-id-4 div.sk-dashed-wrapped {border: 1px dashed gray;margin: 0 0.4em 0.5em 0.4em;box-sizing: border-box;padding-bottom: 0.4em;background-color: white;}#sk-container-id-4 div.sk-label label {font-family: monospace;font-weight: bold;display: inline-block;line-height: 1.2em;}#sk-container-id-4 div.sk-label-container {text-align: center;}#sk-container-id-4 div.sk-container {/* jupyter's `normalize.less` sets `[hidden] { display: none; }` but bootstrap.min.css set `[hidden] { display: none !important; }` so we also need the `!important` here to be able to override the default hidden behavior on the sphinx rendered scikit-learn.org. See: https://github.com/scikit-learn/scikit-learn/issues/21755 */display: inline-block !important;position: relative;}#sk-container-id-4 div.sk-text-repr-fallback {display: none;}</style><div id=\"sk-container-id-4\" class=\"sk-top-container\"><div class=\"sk-text-repr-fallback\"><pre>LogisticRegression(max_iter=2000)</pre><b>In a Jupyter environment, please rerun this cell to show the HTML representation or trust the notebook. <br />On GitHub, the HTML representation is unable to render, please try loading this page with nbviewer.org.</b></div><div class=\"sk-container\" hidden><div class=\"sk-item\"><div class=\"sk-estimator sk-toggleable\"><input class=\"sk-toggleable__control sk-hidden--visually\" id=\"sk-estimator-id-4\" type=\"checkbox\" checked><label for=\"sk-estimator-id-4\" class=\"sk-toggleable__label sk-toggleable__label-arrow\">LogisticRegression</label><div class=\"sk-toggleable__content\"><pre>LogisticRegression(max_iter=2000)</pre></div></div></div></div></div>"
     },
     "execution_count": 146,
     "metadata": {},
     "output_type": "execute_result"
    }
   ],
   "source": [
    "lr.fit(X, y)"
   ],
   "id": "6e48062c8987254d"
  },
  {
   "cell_type": "markdown",
   "metadata": {},
   "source": [
    "### Model accuracy"
   ],
   "id": "26159979202c608d"
  },
  {
   "cell_type": "code",
   "execution_count": 147,
   "metadata": {
    "ExecuteTime": {
     "end_time": "2024-01-02T02:13:15.787143Z",
     "start_time": "2024-01-02T02:13:15.762964Z"
    }
   },
   "outputs": [
    {
     "data": {
      "text/plain": "0.9649455234486025"
     },
     "execution_count": 147,
     "metadata": {},
     "output_type": "execute_result"
    }
   ],
   "source": [
    "lr.score(X, y)"
   ],
   "id": "9a25acd3bb2ba509"
  },
  {
   "cell_type": "markdown",
   "metadata": {},
   "source": [
    "## Sequential Forward Selection"
   ],
   "id": "1befc8b1d515f83f"
  },
  {
   "cell_type": "code",
   "execution_count": 144,
   "metadata": {
    "ExecuteTime": {
     "end_time": "2024-01-02T02:10:41.836833Z",
     "start_time": "2024-01-02T02:10:41.834803Z"
    }
   },
   "outputs": [],
   "source": [],
   "id": "a609cfb46d36543c"
  },
  {
   "cell_type": "markdown",
   "metadata": {},
   "source": [
    "### Fit the model"
   ],
   "id": "797d4508d56fd59e"
  },
  {
   "cell_type": "code",
   "execution_count": 144,
   "metadata": {
    "ExecuteTime": {
     "end_time": "2024-01-02T02:10:41.841895Z",
     "start_time": "2024-01-02T02:10:41.837943Z"
    }
   },
   "outputs": [],
   "source": [],
   "id": "9f641f53d758d241"
  },
  {
   "cell_type": "markdown",
   "metadata": {},
   "source": [
    "### Inspect the results"
   ],
   "id": "aa2198f9de02e9c1"
  },
  {
   "cell_type": "code",
   "execution_count": 144,
   "metadata": {
    "ExecuteTime": {
     "end_time": "2024-01-02T02:10:41.847176Z",
     "start_time": "2024-01-02T02:10:41.841909Z"
    }
   },
   "outputs": [],
   "source": [],
   "id": "1a4b06c3888d22ea"
  },
  {
   "cell_type": "markdown",
   "metadata": {},
   "source": [
    "### Chosen features and model accuracy"
   ],
   "id": "9e4f0c91d9108eeb"
  },
  {
   "cell_type": "code",
   "execution_count": 144,
   "metadata": {
    "ExecuteTime": {
     "end_time": "2024-01-02T02:10:41.849222Z",
     "start_time": "2024-01-02T02:10:41.845235Z"
    }
   },
   "outputs": [],
   "source": [],
   "id": "72692022221edd5d"
  },
  {
   "cell_type": "markdown",
   "metadata": {},
   "source": [
    "### Visualize model accuracy"
   ],
   "id": "dc0f720dc630604f"
  },
  {
   "cell_type": "code",
   "execution_count": 144,
   "metadata": {
    "scrolled": true,
    "ExecuteTime": {
     "end_time": "2024-01-02T02:10:41.884269Z",
     "start_time": "2024-01-02T02:10:41.848470Z"
    }
   },
   "outputs": [],
   "source": [],
   "id": "38d61b3d5ef3866d"
  },
  {
   "cell_type": "markdown",
   "metadata": {},
   "source": [
    "## Sequential Backward Selection"
   ],
   "id": "306cb7c344b0d366"
  },
  {
   "cell_type": "markdown",
   "metadata": {},
   "source": [
    "Sequential forward selection was able to find a feature subset that performed marginally better than the full feature set. Let's use a different sequential method and see how it compares."
   ],
   "id": "41d1a194397619e7"
  },
  {
   "cell_type": "code",
   "execution_count": 144,
   "metadata": {
    "ExecuteTime": {
     "end_time": "2024-01-02T02:10:41.884992Z",
     "start_time": "2024-01-02T02:10:41.851498Z"
    }
   },
   "outputs": [],
   "source": [],
   "id": "92ad7d2d57bb2bfb"
  },
  {
   "cell_type": "markdown",
   "metadata": {},
   "source": [
    "### Fit the model"
   ],
   "id": "3d14bd3f2a018d45"
  },
  {
   "cell_type": "code",
   "execution_count": 144,
   "metadata": {
    "ExecuteTime": {
     "end_time": "2024-01-02T02:10:41.885968Z",
     "start_time": "2024-01-02T02:10:41.853726Z"
    }
   },
   "outputs": [],
   "source": [],
   "id": "c8b038d63cde79d6"
  },
  {
   "cell_type": "markdown",
   "metadata": {},
   "source": [
    "### Inspect the results"
   ],
   "id": "7c49a8464015e4e1"
  },
  {
   "cell_type": "code",
   "execution_count": 144,
   "metadata": {
    "ExecuteTime": {
     "end_time": "2024-01-02T02:10:41.886832Z",
     "start_time": "2024-01-02T02:10:41.860063Z"
    }
   },
   "outputs": [],
   "source": [],
   "id": "9b8878a2deb611cf"
  },
  {
   "cell_type": "markdown",
   "metadata": {},
   "source": [
    "### Chosen features and model accuracy"
   ],
   "id": "b8f13c6918eb8bf0"
  },
  {
   "cell_type": "code",
   "execution_count": 144,
   "metadata": {
    "ExecuteTime": {
     "end_time": "2024-01-02T02:10:41.887538Z",
     "start_time": "2024-01-02T02:10:41.865184Z"
    }
   },
   "outputs": [],
   "source": [],
   "id": "2e3bc21a4f2549ad"
  },
  {
   "cell_type": "markdown",
   "metadata": {},
   "source": [
    "### Visualize model accuracy"
   ],
   "id": "535ac21e7ded495e"
  },
  {
   "cell_type": "code",
   "execution_count": 144,
   "metadata": {
    "scrolled": true,
    "ExecuteTime": {
     "end_time": "2024-01-02T02:10:41.901586Z",
     "start_time": "2024-01-02T02:10:41.868799Z"
    }
   },
   "outputs": [],
   "source": [],
   "id": "5e4462985a7e1210"
  },
  {
   "cell_type": "markdown",
   "metadata": {},
   "source": [
    "## Recursive Feature Elimination"
   ],
   "id": "2e51aa911963d7fb"
  },
  {
   "cell_type": "markdown",
   "metadata": {},
   "source": [
    "So far we've tried two different sequential feature selection methods. Let's try one more: recursive feature elimination. First I'll standardize the data, then I'll fit the RFE model and inspect the results."
   ],
   "id": "593651604a63d3c9"
  },
  {
   "cell_type": "code",
   "execution_count": 144,
   "metadata": {
    "ExecuteTime": {
     "end_time": "2024-01-02T02:10:41.934244Z",
     "start_time": "2024-01-02T02:10:41.872510Z"
    }
   },
   "outputs": [],
   "source": [],
   "id": "1374be1d1c6db17c"
  },
  {
   "cell_type": "markdown",
   "metadata": {},
   "source": [
    "### Standardize the data"
   ],
   "id": "644e0993e05c5618"
  },
  {
   "cell_type": "code",
   "execution_count": 144,
   "metadata": {
    "ExecuteTime": {
     "end_time": "2024-01-02T02:10:41.934815Z",
     "start_time": "2024-01-02T02:10:41.875340Z"
    }
   },
   "outputs": [],
   "source": [],
   "id": "6f7bb08d67fb1628"
  },
  {
   "cell_type": "markdown",
   "metadata": {},
   "source": [
    "### Recursive feature elimination model"
   ],
   "id": "f07a53789756cf53"
  },
  {
   "cell_type": "code",
   "execution_count": 144,
   "metadata": {
    "ExecuteTime": {
     "end_time": "2024-01-02T02:10:41.935232Z",
     "start_time": "2024-01-02T02:10:41.879159Z"
    }
   },
   "outputs": [],
   "source": [],
   "id": "85cced40626c75dd"
  },
  {
   "cell_type": "markdown",
   "metadata": {},
   "source": [
    "### Fit the model"
   ],
   "id": "826486a38f1060ba"
  },
  {
   "cell_type": "code",
   "execution_count": 144,
   "metadata": {
    "ExecuteTime": {
     "end_time": "2024-01-02T02:10:41.936368Z",
     "start_time": "2024-01-02T02:10:41.882420Z"
    }
   },
   "outputs": [],
   "source": [],
   "id": "1d735e75d0dbdf42"
  },
  {
   "cell_type": "markdown",
   "metadata": {},
   "source": [
    "### Inspect chosen feature"
   ],
   "id": "ea835b938e0d153e"
  },
  {
   "cell_type": "code",
   "execution_count": 144,
   "metadata": {
    "ExecuteTime": {
     "end_time": "2024-01-02T02:10:41.937709Z",
     "start_time": "2024-01-02T02:10:41.886015Z"
    }
   },
   "outputs": [],
   "source": [],
   "id": "3de5679ad7a4fef7"
  },
  {
   "cell_type": "markdown",
   "metadata": {},
   "source": [
    "### Model accuracy"
   ],
   "id": "b9ce609c236a702b"
  },
  {
   "cell_type": "code",
   "execution_count": 144,
   "metadata": {
    "ExecuteTime": {
     "end_time": "2024-01-02T02:10:41.938465Z",
     "start_time": "2024-01-02T02:10:41.888785Z"
    }
   },
   "outputs": [],
   "source": [],
   "id": "aedfb8ffbbaa2415"
  }
 ],
 "metadata": {
  "kernelspec": {
   "display_name": "Python 3",
   "language": "python",
   "name": "python3"
  },
  "language_info": {
   "codemirror_mode": {
    "name": "ipython",
    "version": 3
   },
   "file_extension": ".py",
   "mimetype": "text/x-python",
   "name": "python",
   "nbconvert_exporter": "python",
   "pygments_lexer": "ipython3",
   "version": "3.7.6"
  }
 },
 "nbformat": 4,
 "nbformat_minor": 5
}
